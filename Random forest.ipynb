{
 "cells": [
  {
   "cell_type": "code",
   "execution_count": 8,
   "metadata": {},
   "outputs": [],
   "source": [
    "import pandas as pd\n",
    "import torch\n",
    "import numpy as np"
   ]
  },
  {
   "cell_type": "code",
   "execution_count": 76,
   "metadata": {},
   "outputs": [
    {
     "ename": "KeyboardInterrupt",
     "evalue": "",
     "output_type": "error",
     "traceback": [
      "\u001b[1;31m---------------------------------------------------------------------------\u001b[0m",
      "\u001b[1;31mKeyboardInterrupt\u001b[0m                         Traceback (most recent call last)",
      "Cell \u001b[1;32mIn[76], line 12\u001b[0m\n\u001b[0;32m      9\u001b[0m run \u001b[38;5;241m=\u001b[39m \u001b[38;5;28;01mTrue\u001b[39;00m\n\u001b[0;32m     11\u001b[0m \u001b[38;5;28;01mwhile\u001b[39;00m run \u001b[38;5;241m==\u001b[39m \u001b[38;5;28;01mTrue\u001b[39;00m:\n\u001b[1;32m---> 12\u001b[0m     random_number \u001b[38;5;241m=\u001b[39m \u001b[43mrandom\u001b[49m\u001b[38;5;241;43m.\u001b[39;49m\u001b[43mrandint\u001b[49m\u001b[43m(\u001b[49m\u001b[38;5;241;43m1\u001b[39;49m\u001b[43m,\u001b[49m\u001b[43m \u001b[49m\u001b[38;5;241;43m10\u001b[39;49m\u001b[43m)\u001b[49m\n\u001b[0;32m     14\u001b[0m     result_string \u001b[38;5;241m+\u001b[39m\u001b[38;5;241m=\u001b[39m \u001b[38;5;28mstr\u001b[39m(random_number) \u001b[38;5;241m+\u001b[39m \u001b[38;5;124m\"\u001b[39m\u001b[38;5;124m \u001b[39m\u001b[38;5;124m\"\u001b[39m\n\u001b[0;32m     16\u001b[0m \u001b[38;5;66;03m# Print the final result string\u001b[39;00m\n",
      "File \u001b[1;32mc:\\Users\\ramie\\AppData\\Local\\Programs\\Python\\Python311\\Lib\\random.py:358\u001b[0m, in \u001b[0;36mRandom.randint\u001b[1;34m(self, a, b)\u001b[0m\n\u001b[0;32m    355\u001b[0m         \u001b[38;5;28;01mraise\u001b[39;00m \u001b[38;5;167;01mValueError\u001b[39;00m(\u001b[38;5;124m\"\u001b[39m\u001b[38;5;124mempty range for randrange()\u001b[39m\u001b[38;5;124m\"\u001b[39m)\n\u001b[0;32m    356\u001b[0m     \u001b[38;5;28;01mreturn\u001b[39;00m istart \u001b[38;5;241m+\u001b[39m istep \u001b[38;5;241m*\u001b[39m \u001b[38;5;28mself\u001b[39m\u001b[38;5;241m.\u001b[39m_randbelow(n)\n\u001b[1;32m--> 358\u001b[0m \u001b[38;5;28;01mdef\u001b[39;00m \u001b[38;5;21mrandint\u001b[39m(\u001b[38;5;28mself\u001b[39m, a, b):\n\u001b[0;32m    359\u001b[0m \u001b[38;5;250m    \u001b[39m\u001b[38;5;124;03m\"\"\"Return random integer in range [a, b], including both end points.\u001b[39;00m\n\u001b[0;32m    360\u001b[0m \u001b[38;5;124;03m    \"\"\"\u001b[39;00m\n\u001b[0;32m    362\u001b[0m     \u001b[38;5;28;01mreturn\u001b[39;00m \u001b[38;5;28mself\u001b[39m\u001b[38;5;241m.\u001b[39mrandrange(a, b\u001b[38;5;241m+\u001b[39m\u001b[38;5;241m1\u001b[39m)\n",
      "\u001b[1;31mKeyboardInterrupt\u001b[0m: "
     ]
    }
   ],
   "source": [
    "from mp_api.client import MPRester\n",
    "\n",
    "import random\n",
    "\n",
    "result_string = \"\"\n",
    "\n",
    "num_iterations = 100  \n",
    "\n",
    "run = True\n",
    "\n",
    "while run == True:\n",
    "    random_number = random.randint(1, 10)\n",
    "\n",
    "    result_string += str(random_number) + \" \"\n",
    "\n",
    "# Print the final result string\n",
    "print(\"Result String:\", result_string)\n",
    "\n",
    "with MPRester(\"3cc08jX8WHZOYwtfrU6KNl5urhUOy3xL\") as mpr:\n",
    "    docs = mpr.materials.summary.search(material_ids = [\"mp-149\",\"mp-757220\"],fields =[\"structure\", \"band_gap\"])\n",
    "\n",
    "test = docs[1].structure\n",
    "print(test.lattice)#The lattice\n",
    "print(test.charge) #Charge\n",
    "print(test.species) #The species that corrospond to the cartisean coordinartes\n",
    "print(test.cart_coords) #coordinates of where they are in the structure\n",
    "print(test.atomic_numbers)\n",
    "print(test.distance_matrix) #Distance compared to e4ach other\n",
    "print(docs[0].band_gap)"
   ]
  },
  {
   "cell_type": "code",
   "execution_count": 13,
   "metadata": {},
   "outputs": [
    {
     "name": "stdout",
     "output_type": "stream",
     "text": [
      "14 0.0 14 14.0\n"
     ]
    }
   ],
   "source": [
    "mean_atomic_number = np.mean(test.atomic_numbers)\n",
    "max_atomic_number = np.max(test.atomic_numbers)\n",
    "min_atomic_number = np.min(test.atomic_numbers)\n",
    "std_atomic_number = np.std(test.atomic_numbers)\n",
    "\n",
    "print(min_atomic_number,std_atomic_number, max_atomic_number, mean_atomic_number)"
   ]
  },
  {
   "cell_type": "code",
   "execution_count": 15,
   "metadata": {},
   "outputs": [
    {
     "name": "stdout",
     "output_type": "stream",
     "text": [
      "1.1785959786079152 2.3571919572158304 0.0 1.1785959786079152\n"
     ]
    }
   ],
   "source": [
    "mean_distance_matrix = np.mean(test.distance_matrix)\n",
    "max_distance_matrix = np.max(test.distance_matrix)\n",
    "min_distance_matrix = np.min(test.distance_matrix)\n",
    "std_distance_matrix = np.std(test.distance_matrix)\n",
    "\n",
    "print(mean_distance_matrix,max_distance_matrix,min_distance_matrix,std_distance_matrix)"
   ]
  },
  {
   "cell_type": "code",
   "execution_count": null,
   "metadata": {},
   "outputs": [],
   "source": [
    "mean_atomic_numbers = []\n",
    "max_atomic_numbers = []\n",
    "min_atomic_numbers = []\n",
    "std_atomic_numbers = []\n",
    "\n",
    "a_parameters = []\n",
    "b_parameters = []\n",
    "c_parameters = []\n",
    "alpha_parameters = []\n",
    "beta_parameters = []\n",
    "gamma_parameters = []\n",
    "\n",
    "mean_distance_matrix = []\n",
    "max_distance_matrix = []\n",
    "min_distance_matrix = []\n",
    "std_distance_matrix = []\n",
    "\n",
    "band_gaps = []"
   ]
  },
  {
   "cell_type": "code",
   "execution_count": null,
   "metadata": {},
   "outputs": [],
   "source": []
  }
 ],
 "metadata": {
  "kernelspec": {
   "display_name": "Python 3",
   "language": "python",
   "name": "python3"
  },
  "language_info": {
   "codemirror_mode": {
    "name": "ipython",
    "version": 3
   },
   "file_extension": ".py",
   "mimetype": "text/x-python",
   "name": "python",
   "nbconvert_exporter": "python",
   "pygments_lexer": "ipython3",
   "version": "3.11.4"
  }
 },
 "nbformat": 4,
 "nbformat_minor": 2
}
